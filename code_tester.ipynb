{
 "cells": [
  {
   "cell_type": "markdown",
   "metadata": {},
   "source": [
    "#read the readme to know exactly what code is doing. \n",
    "\n",
    "Here is the breakdown of how I want to build the code. \n",
    "\n",
    "- We will use requests to load the first page of the results. \n",
    "- Store the links to each job description. I don't want to use the in page feature of the job description. That makes the HTML too complicated.\n",
    "- Once we have the links, use requests to get content for each one. \n",
    "- Use beutiful soup to scrape the job description. \n",
    "- The idea is to give the user the choice of skills he wants the summary. For the initial process I will provide a list of skills and check the results to see if everything works clearly. Then move on to user inputs. \n",
    "- Once the code works for let's say 10 or 20 job searches, we can scale it to incorporate more companies.\n",
    "- Be ethical. I will keep a cap on how many companies we can search in the end. Let's not be scummy and inundate the indeed server.\n"
   ]
  },
  {
   "cell_type": "code",
   "execution_count": 1,
   "metadata": {},
   "outputs": [],
   "source": [
    "#let's begin \n",
    "\n",
    "import pyforest \n",
    "import requests \n",
    "from bs4 import BeautifulSoup"
   ]
  },
  {
   "cell_type": "code",
   "execution_count": 2,
   "metadata": {},
   "outputs": [
    {
     "data": {
      "text/plain": [
       "<Response [200]>"
      ]
     },
     "execution_count": 2,
     "metadata": {},
     "output_type": "execute_result"
    }
   ],
   "source": [
    "job_page = requests.get('https://www.indeed.com/jobs?q=data+scientist&l=United+States')\n",
    "job_page"
   ]
  },
  {
   "cell_type": "code",
   "execution_count": 3,
   "metadata": {},
   "outputs": [],
   "source": [
    "first_page_content = job_page.text"
   ]
  },
  {
   "cell_type": "code",
   "execution_count": 4,
   "metadata": {},
   "outputs": [],
   "source": [
    "parser = BeautifulSoup(first_page_content, 'html.parser')"
   ]
  },
  {
   "cell_type": "code",
   "execution_count": 5,
   "metadata": {},
   "outputs": [],
   "source": [
    "test = parser.body.find('div', attrs = {'data-tn-component':'organicJob'})"
   ]
  },
  {
   "cell_type": "code",
   "execution_count": 6,
   "metadata": {},
   "outputs": [
    {
     "data": {
      "text/plain": [
       "'Data Scientist'"
      ]
     },
     "execution_count": 6,
     "metadata": {},
     "output_type": "execute_result"
    }
   ],
   "source": [
    "test_job_title = test.a.text.strip()\n",
    "test_job_title"
   ]
  },
  {
   "cell_type": "code",
   "execution_count": 7,
   "metadata": {},
   "outputs": [],
   "source": [
    "job_link = test.a.get('href')"
   ]
  },
  {
   "cell_type": "code",
   "execution_count": 8,
   "metadata": {},
   "outputs": [
    {
     "data": {
      "text/plain": [
       "'/company/WTF-DIGITAL/jobs/Data-Scientist-dda20b6589d3de4f?fccid=8020b1127d57b812&vjs=3'"
      ]
     },
     "execution_count": 8,
     "metadata": {},
     "output_type": "execute_result"
    }
   ],
   "source": [
    "job_link"
   ]
  },
  {
   "cell_type": "markdown",
   "metadata": {},
   "source": [
    "So we pretty much figured out how to get the job name and link. "
   ]
  },
  {
   "cell_type": "code",
   "execution_count": 9,
   "metadata": {},
   "outputs": [
    {
     "data": {
      "text/plain": [
       "'dynamicbitit.com'"
      ]
     },
     "execution_count": 9,
     "metadata": {},
     "output_type": "execute_result"
    }
   ],
   "source": [
    "company_name = test.div.span.text.strip()\n",
    "company_name"
   ]
  },
  {
   "cell_type": "markdown",
   "metadata": {},
   "source": [
    "Now let's check if the same code can work for the rest of the job listings. "
   ]
  },
  {
   "cell_type": "code",
   "execution_count": 10,
   "metadata": {},
   "outputs": [],
   "source": [
    "test2 = parser.body.find_all('div', attrs = {'data-tn-component':'organicJob'})"
   ]
  },
  {
   "cell_type": "code",
   "execution_count": 11,
   "metadata": {},
   "outputs": [
    {
     "data": {
      "text/plain": [
       "15"
      ]
     },
     "execution_count": 11,
     "metadata": {},
     "output_type": "execute_result"
    }
   ],
   "source": [
    "len(test2)"
   ]
  },
  {
   "cell_type": "code",
   "execution_count": 12,
   "metadata": {},
   "outputs": [
    {
     "data": {
      "text/plain": [
       "'Data Scientist (entry level)'"
      ]
     },
     "execution_count": 12,
     "metadata": {},
     "output_type": "execute_result"
    }
   ],
   "source": [
    "test2[1].a.text.strip()"
   ]
  },
  {
   "cell_type": "code",
   "execution_count": 13,
   "metadata": {},
   "outputs": [
    {
     "data": {
      "text/plain": [
       "'Research Data Scientist II'"
      ]
     },
     "execution_count": 13,
     "metadata": {},
     "output_type": "execute_result"
    }
   ],
   "source": [
    "test2[3].a.text.strip()"
   ]
  },
  {
   "cell_type": "code",
   "execution_count": 14,
   "metadata": {},
   "outputs": [
    {
     "data": {
      "text/plain": [
       "'Data Scientist'"
      ]
     },
     "execution_count": 14,
     "metadata": {},
     "output_type": "execute_result"
    }
   ],
   "source": [
    "test2[6].a.text.strip()"
   ]
  },
  {
   "cell_type": "markdown",
   "metadata": {},
   "source": [
    "Works so far. One issue that is arising is not every job has the div-tn-component attribute. We can choose to ignore this since we will be looking at quite a number of jobs. Indeed has 15 job listings per page. As of this code some jobs are being scraped and some aren't. I'm continuing and will come back to see if I can change something. Ok let put this in a loop and see if it works. "
   ]
  },
  {
   "cell_type": "markdown",
   "metadata": {},
   "source": [
    "____________________________________________________________________________________________"
   ]
  },
  {
   "cell_type": "code",
   "execution_count": 15,
   "metadata": {},
   "outputs": [
    {
     "data": {
      "application/javascript": [
       "\n",
       "        if (window._pyforest_update_imports_cell) { window._pyforest_update_imports_cell('import pandas as pd'); }\n",
       "    "
      ],
      "text/plain": [
       "<IPython.core.display.Javascript object>"
      ]
     },
     "metadata": {},
     "output_type": "display_data"
    }
   ],
   "source": [
    "job_table = pd.DataFrame(columns = ['Job Title','Organization','Link'])"
   ]
  },
  {
   "cell_type": "code",
   "execution_count": 16,
   "metadata": {},
   "outputs": [
    {
     "data": {
      "text/html": [
       "<div>\n",
       "<style scoped>\n",
       "    .dataframe tbody tr th:only-of-type {\n",
       "        vertical-align: middle;\n",
       "    }\n",
       "\n",
       "    .dataframe tbody tr th {\n",
       "        vertical-align: top;\n",
       "    }\n",
       "\n",
       "    .dataframe thead th {\n",
       "        text-align: right;\n",
       "    }\n",
       "</style>\n",
       "<table border=\"1\" class=\"dataframe\">\n",
       "  <thead>\n",
       "    <tr style=\"text-align: right;\">\n",
       "      <th></th>\n",
       "      <th>Job Title</th>\n",
       "      <th>Organization</th>\n",
       "      <th>Link</th>\n",
       "    </tr>\n",
       "  </thead>\n",
       "  <tbody>\n",
       "  </tbody>\n",
       "</table>\n",
       "</div>"
      ],
      "text/plain": [
       "Empty DataFrame\n",
       "Columns: [Job Title, Organization, Link]\n",
       "Index: []"
      ]
     },
     "execution_count": 16,
     "metadata": {},
     "output_type": "execute_result"
    }
   ],
   "source": [
    "job_table"
   ]
  },
  {
   "cell_type": "code",
   "execution_count": 17,
   "metadata": {},
   "outputs": [],
   "source": [
    "scraped_page = parser.body.find_all('div', attrs = {'data-tn-component':'organicJob'})"
   ]
  },
  {
   "cell_type": "code",
   "execution_count": 18,
   "metadata": {},
   "outputs": [],
   "source": [
    "titles = []\n",
    "orgs = []\n",
    "clean_links = []\n",
    "    \n",
    "for job in scraped_page:\n",
    "    \n",
    "    title = job.a.text.strip()\n",
    "    titles.append(title)\n",
    "    \n",
    "    org = job.div.span.text.strip()\n",
    "    orgs.append(org)\n",
    "    \n",
    "    link = job.a.get('href')\n",
    "    \n",
    "    if link.startswith('https'):\n",
    "        clean_links.append(link)\n",
    "    else:\n",
    "        join_link = \"https://www.indeed.com\"+link\n",
    "        clean_links.append(join_link)"
   ]
  },
  {
   "cell_type": "code",
   "execution_count": 19,
   "metadata": {},
   "outputs": [
    {
     "data": {
      "text/plain": [
       "['https://www.indeed.com/company/WTF-DIGITAL/jobs/Data-Scientist-dda20b6589d3de4f?fccid=8020b1127d57b812&vjs=3',\n",
       " 'https://www.indeed.com/rc/clk?jk=10ce94304e4f3254&fccid=e34a8bfa908cfda2&vjs=3',\n",
       " 'https://www.indeed.com/company/WithHealth,-Inc./jobs/Senior-Data-Scientist-1b9a2896f416c9f5?fccid=afbf73832175724f&vjs=3',\n",
       " 'https://www.indeed.com/rc/clk?jk=b612e4d97a48e2fb&fccid=e2a2a5c0f4f84192&vjs=3',\n",
       " 'https://www.indeed.com/rc/clk?jk=abb4a8359abeeb2e&fccid=fe2d21eef233e94a&vjs=3',\n",
       " 'https://www.indeed.com/rc/clk?jk=3d5724ad39c214bb&fccid=9993304a3df214bf&vjs=3',\n",
       " 'https://www.indeed.com/company/CS-Solutions-Inc/jobs/Data-Scientist-fc457dfccb348979?fccid=d7d214065e5de0b6&vjs=3',\n",
       " 'https://www.indeed.com/company/C2S-Technologies/jobs/Data-Scientist-9d198a5949bdec9c?fccid=eb4bc656c7659573&vjs=3',\n",
       " 'https://www.indeed.com/company/Eateam/jobs/Data-Scientist-1c9685211454261a?fccid=50b31c1f60e549ba&vjs=3',\n",
       " 'https://www.indeed.com/company/The-TIE/jobs/Cryptocurrency-Data-Scientist-dd27e5a232e9a3dc?fccid=2c080a0574ff3c41&vjs=3',\n",
       " 'https://www.indeed.com/rc/clk?jk=c2745f2c9cc6cc85&fccid=734cb5a01ee60f80&vjs=3',\n",
       " 'https://www.indeed.com/rc/clk?jk=bb0673648abdecf0&fccid=dd616958bd9ddc12&vjs=3',\n",
       " 'https://www.indeed.com/rc/clk?jk=9620688add68f90b&fccid=734cb5a01ee60f80&vjs=3',\n",
       " 'https://www.indeed.com/rc/clk?jk=5db0bf4a8de2d543&fccid=d718808518895b44&vjs=3',\n",
       " 'https://www.indeed.com/rc/clk?jk=1f0040be0579af5e&fccid=734cb5a01ee60f80&vjs=3']"
      ]
     },
     "execution_count": 19,
     "metadata": {},
     "output_type": "execute_result"
    }
   ],
   "source": [
    "clean_links"
   ]
  },
  {
   "cell_type": "code",
   "execution_count": 20,
   "metadata": {},
   "outputs": [],
   "source": [
    "job_table['Job Title'] = titles\n",
    "job_table['Organization'] = orgs\n",
    "job_table['Link'] = clean_links"
   ]
  },
  {
   "cell_type": "code",
   "execution_count": 21,
   "metadata": {},
   "outputs": [
    {
     "data": {
      "text/html": [
       "<div>\n",
       "<style scoped>\n",
       "    .dataframe tbody tr th:only-of-type {\n",
       "        vertical-align: middle;\n",
       "    }\n",
       "\n",
       "    .dataframe tbody tr th {\n",
       "        vertical-align: top;\n",
       "    }\n",
       "\n",
       "    .dataframe thead th {\n",
       "        text-align: right;\n",
       "    }\n",
       "</style>\n",
       "<table border=\"1\" class=\"dataframe\">\n",
       "  <thead>\n",
       "    <tr style=\"text-align: right;\">\n",
       "      <th></th>\n",
       "      <th>Job Title</th>\n",
       "      <th>Organization</th>\n",
       "      <th>Link</th>\n",
       "    </tr>\n",
       "  </thead>\n",
       "  <tbody>\n",
       "    <tr>\n",
       "      <th>0</th>\n",
       "      <td>Data Scientist</td>\n",
       "      <td>dynamicbitit.com</td>\n",
       "      <td>https://www.indeed.com/company/WTF-DIGITAL/job...</td>\n",
       "    </tr>\n",
       "    <tr>\n",
       "      <th>1</th>\n",
       "      <td>Data Scientist (entry level)</td>\n",
       "      <td>Saturn Cloud</td>\n",
       "      <td>https://www.indeed.com/rc/clk?jk=10ce94304e4f3...</td>\n",
       "    </tr>\n",
       "    <tr>\n",
       "      <th>2</th>\n",
       "      <td>Sr. Data Scientist</td>\n",
       "      <td>WithHealth, Inc.</td>\n",
       "      <td>https://www.indeed.com/company/WithHealth,-Inc...</td>\n",
       "    </tr>\n",
       "    <tr>\n",
       "      <th>3</th>\n",
       "      <td>Research Data Scientist II</td>\n",
       "      <td>Cleveland Clinic</td>\n",
       "      <td>https://www.indeed.com/rc/clk?jk=b612e4d97a48e...</td>\n",
       "    </tr>\n",
       "    <tr>\n",
       "      <th>4</th>\n",
       "      <td>Data Scientist, Amazon Studios</td>\n",
       "      <td>Amazon Studios LLC</td>\n",
       "      <td>https://www.indeed.com/rc/clk?jk=abb4a8359abee...</td>\n",
       "    </tr>\n",
       "    <tr>\n",
       "      <th>5</th>\n",
       "      <td>Data Scientist - Analytics</td>\n",
       "      <td>Acorn Analytics</td>\n",
       "      <td>https://www.indeed.com/rc/clk?jk=3d5724ad39c21...</td>\n",
       "    </tr>\n",
       "    <tr>\n",
       "      <th>6</th>\n",
       "      <td>Data Scientist</td>\n",
       "      <td>CS Solutions Inc</td>\n",
       "      <td>https://www.indeed.com/company/CS-Solutions-In...</td>\n",
       "    </tr>\n",
       "    <tr>\n",
       "      <th>7</th>\n",
       "      <td>Data Scientist</td>\n",
       "      <td>C2S Technologies</td>\n",
       "      <td>https://www.indeed.com/company/C2S-Technologie...</td>\n",
       "    </tr>\n",
       "    <tr>\n",
       "      <th>8</th>\n",
       "      <td>Data Scientist</td>\n",
       "      <td>Eateam</td>\n",
       "      <td>https://www.indeed.com/company/Eateam/jobs/Dat...</td>\n",
       "    </tr>\n",
       "    <tr>\n",
       "      <th>9</th>\n",
       "      <td>Cryptocurrency Data Scientist</td>\n",
       "      <td>The TIE</td>\n",
       "      <td>https://www.indeed.com/company/The-TIE/jobs/Cr...</td>\n",
       "    </tr>\n",
       "    <tr>\n",
       "      <th>10</th>\n",
       "      <td>Data &amp; Applied Scientist</td>\n",
       "      <td>Microsoft</td>\n",
       "      <td>https://www.indeed.com/rc/clk?jk=c2745f2c9cc6c...</td>\n",
       "    </tr>\n",
       "    <tr>\n",
       "      <th>11</th>\n",
       "      <td>Data Scientist</td>\n",
       "      <td>Dave</td>\n",
       "      <td>https://www.indeed.com/rc/clk?jk=bb0673648abde...</td>\n",
       "    </tr>\n",
       "    <tr>\n",
       "      <th>12</th>\n",
       "      <td>Internship Opportunities for Students: Data &amp; ...</td>\n",
       "      <td>Microsoft</td>\n",
       "      <td>https://www.indeed.com/rc/clk?jk=9620688add68f...</td>\n",
       "    </tr>\n",
       "    <tr>\n",
       "      <th>13</th>\n",
       "      <td>Data Scientist</td>\n",
       "      <td>Westfield Insurance</td>\n",
       "      <td>https://www.indeed.com/rc/clk?jk=5db0bf4a8de2d...</td>\n",
       "    </tr>\n",
       "    <tr>\n",
       "      <th>14</th>\n",
       "      <td>Full Time Opportunities for Students or Recent...</td>\n",
       "      <td>Microsoft</td>\n",
       "      <td>https://www.indeed.com/rc/clk?jk=1f0040be0579a...</td>\n",
       "    </tr>\n",
       "  </tbody>\n",
       "</table>\n",
       "</div>"
      ],
      "text/plain": [
       "                                            Job Title         Organization  \\\n",
       "0                                      Data Scientist     dynamicbitit.com   \n",
       "1                        Data Scientist (entry level)         Saturn Cloud   \n",
       "2                                  Sr. Data Scientist     WithHealth, Inc.   \n",
       "3                          Research Data Scientist II     Cleveland Clinic   \n",
       "4                      Data Scientist, Amazon Studios   Amazon Studios LLC   \n",
       "5                          Data Scientist - Analytics      Acorn Analytics   \n",
       "6                                      Data Scientist     CS Solutions Inc   \n",
       "7                                      Data Scientist     C2S Technologies   \n",
       "8                                      Data Scientist               Eateam   \n",
       "9                       Cryptocurrency Data Scientist              The TIE   \n",
       "10                           Data & Applied Scientist            Microsoft   \n",
       "11                                     Data Scientist                 Dave   \n",
       "12  Internship Opportunities for Students: Data & ...            Microsoft   \n",
       "13                                     Data Scientist  Westfield Insurance   \n",
       "14  Full Time Opportunities for Students or Recent...            Microsoft   \n",
       "\n",
       "                                                 Link  \n",
       "0   https://www.indeed.com/company/WTF-DIGITAL/job...  \n",
       "1   https://www.indeed.com/rc/clk?jk=10ce94304e4f3...  \n",
       "2   https://www.indeed.com/company/WithHealth,-Inc...  \n",
       "3   https://www.indeed.com/rc/clk?jk=b612e4d97a48e...  \n",
       "4   https://www.indeed.com/rc/clk?jk=abb4a8359abee...  \n",
       "5   https://www.indeed.com/rc/clk?jk=3d5724ad39c21...  \n",
       "6   https://www.indeed.com/company/CS-Solutions-In...  \n",
       "7   https://www.indeed.com/company/C2S-Technologie...  \n",
       "8   https://www.indeed.com/company/Eateam/jobs/Dat...  \n",
       "9   https://www.indeed.com/company/The-TIE/jobs/Cr...  \n",
       "10  https://www.indeed.com/rc/clk?jk=c2745f2c9cc6c...  \n",
       "11  https://www.indeed.com/rc/clk?jk=bb0673648abde...  \n",
       "12  https://www.indeed.com/rc/clk?jk=9620688add68f...  \n",
       "13  https://www.indeed.com/rc/clk?jk=5db0bf4a8de2d...  \n",
       "14  https://www.indeed.com/rc/clk?jk=1f0040be0579a...  "
      ]
     },
     "execution_count": 21,
     "metadata": {},
     "output_type": "execute_result"
    }
   ],
   "source": [
    "job_table"
   ]
  },
  {
   "cell_type": "code",
   "execution_count": null,
   "metadata": {},
   "outputs": [],
   "source": []
  }
 ],
 "metadata": {
  "kernelspec": {
   "display_name": "Python 3",
   "language": "python",
   "name": "python3"
  },
  "language_info": {
   "codemirror_mode": {
    "name": "ipython",
    "version": 3
   },
   "file_extension": ".py",
   "mimetype": "text/x-python",
   "name": "python",
   "nbconvert_exporter": "python",
   "pygments_lexer": "ipython3",
   "version": "3.7.4"
  }
 },
 "nbformat": 4,
 "nbformat_minor": 2
}
