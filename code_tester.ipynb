{
 "cells": [
  {
   "cell_type": "markdown",
   "metadata": {},
   "source": [
    "#read the readme to know exactly what code is doing. \n",
    "\n",
    "Here is the breakdown of how I want to build the code. \n",
    "\n",
    "- We will use requests to load the first page of the results. \n",
    "- Store the links to each job description. I don't want to use the in page feature of the job description. That makes the HTML too complicated.\n",
    "- Once we have the links, use requests to get content for each one. \n",
    "- Use beutiful soup to scrape the job description. \n",
    "- The idea is to give the user the choice of skills he wants the summary. For the initial process I will provide a list of skills and check the results to see if everything works clearly. Then move on to user inputs. \n",
    "- Once the code works for let's say 10 or 20 job searches, we can scale it to incorporate more companies.\n",
    "- Be ethical. I will keep a cap on how many companies we can search in the end. Let's not be scummy and inundate the indeed server.\n"
   ]
  },
  {
   "cell_type": "code",
   "execution_count": 1,
   "metadata": {},
   "outputs": [],
   "source": [
    "#let's begin \n",
    "\n",
    "import pyforest \n",
    "import requests \n",
    "from bs4 import BeautifulSoup"
   ]
  },
  {
   "cell_type": "code",
   "execution_count": 2,
   "metadata": {},
   "outputs": [
    {
     "data": {
      "text/plain": [
       "<Response [200]>"
      ]
     },
     "execution_count": 2,
     "metadata": {},
     "output_type": "execute_result"
    }
   ],
   "source": [
    "job_page = requests.get('https://www.indeed.com/jobs?q=data+scientist&l=United+States')\n",
    "job_page"
   ]
  },
  {
   "cell_type": "code",
   "execution_count": 3,
   "metadata": {},
   "outputs": [],
   "source": [
    "first_page_content = job_page.text"
   ]
  },
  {
   "cell_type": "code",
   "execution_count": 4,
   "metadata": {},
   "outputs": [],
   "source": [
    "parser = BeautifulSoup(first_page_content, 'html.parser')"
   ]
  },
  {
   "cell_type": "code",
   "execution_count": 5,
   "metadata": {},
   "outputs": [],
   "source": [
    "test = parser.body.find('div', attrs = {'data-tn-component':'organicJob'})"
   ]
  },
  {
   "cell_type": "code",
   "execution_count": 6,
   "metadata": {},
   "outputs": [
    {
     "data": {
      "text/plain": [
       "'Data Scientist'"
      ]
     },
     "execution_count": 6,
     "metadata": {},
     "output_type": "execute_result"
    }
   ],
   "source": [
    "test_job_title = test.a.text.strip()\n",
    "test_job_title"
   ]
  },
  {
   "cell_type": "code",
   "execution_count": 7,
   "metadata": {},
   "outputs": [],
   "source": [
    "job_link = test.a.get('href')"
   ]
  },
  {
   "cell_type": "code",
   "execution_count": 8,
   "metadata": {},
   "outputs": [
    {
     "data": {
      "text/plain": [
       "'/company/WTF-DIGITAL/jobs/Data-Scientist-dda20b6589d3de4f?fccid=8020b1127d57b812&vjs=3'"
      ]
     },
     "execution_count": 8,
     "metadata": {},
     "output_type": "execute_result"
    }
   ],
   "source": [
    "job_link"
   ]
  },
  {
   "cell_type": "markdown",
   "metadata": {},
   "source": [
    "So we pretty much figured out how to get the job name and link. "
   ]
  },
  {
   "cell_type": "code",
   "execution_count": 9,
   "metadata": {},
   "outputs": [
    {
     "data": {
      "text/plain": [
       "'dynamicbitit.com'"
      ]
     },
     "execution_count": 9,
     "metadata": {},
     "output_type": "execute_result"
    }
   ],
   "source": [
    "company_name = test.div.span.text.strip()\n",
    "company_name"
   ]
  },
  {
   "cell_type": "markdown",
   "metadata": {},
   "source": [
    "Now let's check if the same code can work for the rest of the job listings. "
   ]
  },
  {
   "cell_type": "code",
   "execution_count": 10,
   "metadata": {},
   "outputs": [],
   "source": [
    "test2 = parser.body.find_all('div', attrs = {'data-tn-component':'organicJob'})"
   ]
  },
  {
   "cell_type": "code",
   "execution_count": 11,
   "metadata": {},
   "outputs": [
    {
     "data": {
      "text/plain": [
       "15"
      ]
     },
     "execution_count": 11,
     "metadata": {},
     "output_type": "execute_result"
    }
   ],
   "source": [
    "len(test2)"
   ]
  },
  {
   "cell_type": "code",
   "execution_count": 12,
   "metadata": {},
   "outputs": [
    {
     "data": {
      "text/plain": [
       "'Data Scientist (entry level)'"
      ]
     },
     "execution_count": 12,
     "metadata": {},
     "output_type": "execute_result"
    }
   ],
   "source": [
    "test2[1].a.text.strip()"
   ]
  },
  {
   "cell_type": "code",
   "execution_count": 13,
   "metadata": {},
   "outputs": [
    {
     "data": {
      "text/plain": [
       "'Research Data Scientist II'"
      ]
     },
     "execution_count": 13,
     "metadata": {},
     "output_type": "execute_result"
    }
   ],
   "source": [
    "test2[3].a.text.strip()"
   ]
  },
  {
   "cell_type": "code",
   "execution_count": 14,
   "metadata": {},
   "outputs": [
    {
     "data": {
      "text/plain": [
       "'Data Scientist'"
      ]
     },
     "execution_count": 14,
     "metadata": {},
     "output_type": "execute_result"
    }
   ],
   "source": [
    "test2[6].a.text.strip()"
   ]
  },
  {
   "cell_type": "markdown",
   "metadata": {},
   "source": [
    "Works so far. One issue that is arising is not every job has the div-tn-component attribute. We can choose to ignore this since we will be looking at quite a number of jobs. Indeed has 15 job listings per page. As of this code some jobs are being scraped and some aren't. I'm continuing and will come back to see if I can change something. Ok let put this in a loop and see if it works. "
   ]
  },
  {
   "cell_type": "markdown",
   "metadata": {},
   "source": [
    "____________________________________________________________________________________________"
   ]
  },
  {
   "cell_type": "code",
   "execution_count": 15,
   "metadata": {},
   "outputs": [
    {
     "data": {
      "application/javascript": [
       "\n",
       "        if (window._pyforest_update_imports_cell) { window._pyforest_update_imports_cell('import pandas as pd'); }\n",
       "    "
      ],
      "text/plain": [
       "<IPython.core.display.Javascript object>"
      ]
     },
     "metadata": {},
     "output_type": "display_data"
    }
   ],
   "source": [
    "job_table = pd.DataFrame(columns = ['Job Title','Organization','Link'])"
   ]
  },
  {
   "cell_type": "code",
   "execution_count": 16,
   "metadata": {},
   "outputs": [
    {
     "data": {
      "text/html": [
       "<div>\n",
       "<style scoped>\n",
       "    .dataframe tbody tr th:only-of-type {\n",
       "        vertical-align: middle;\n",
       "    }\n",
       "\n",
       "    .dataframe tbody tr th {\n",
       "        vertical-align: top;\n",
       "    }\n",
       "\n",
       "    .dataframe thead th {\n",
       "        text-align: right;\n",
       "    }\n",
       "</style>\n",
       "<table border=\"1\" class=\"dataframe\">\n",
       "  <thead>\n",
       "    <tr style=\"text-align: right;\">\n",
       "      <th></th>\n",
       "      <th>Job Title</th>\n",
       "      <th>Organization</th>\n",
       "      <th>Link</th>\n",
       "    </tr>\n",
       "  </thead>\n",
       "  <tbody>\n",
       "  </tbody>\n",
       "</table>\n",
       "</div>"
      ],
      "text/plain": [
       "Empty DataFrame\n",
       "Columns: [Job Title, Organization, Link]\n",
       "Index: []"
      ]
     },
     "execution_count": 16,
     "metadata": {},
     "output_type": "execute_result"
    }
   ],
   "source": [
    "job_table"
   ]
  },
  {
   "cell_type": "code",
   "execution_count": 17,
   "metadata": {},
   "outputs": [],
   "source": [
    "scraped_page = parser.body.find_all('div', attrs = {'data-tn-component':'organicJob'})"
   ]
  },
  {
   "cell_type": "code",
   "execution_count": 18,
   "metadata": {},
   "outputs": [],
   "source": [
    "titles = []\n",
    "orgs = []\n",
    "clean_links = []\n",
    "    \n",
    "for job in scraped_page:\n",
    "    \n",
    "    title = job.a.text.strip()\n",
    "    titles.append(title)\n",
    "    \n",
    "    org = job.div.span.text.strip()\n",
    "    orgs.append(org)\n",
    "    \n",
    "    link = job.a.get('href')\n",
    "    \n",
    "    if link.startswith('https'):\n",
    "        clean_links.append(link)\n",
    "    else:\n",
    "        join_link = \"https://www.indeed.com\"+link\n",
    "        clean_links.append(join_link)"
   ]
  },
  {
   "cell_type": "code",
   "execution_count": 19,
   "metadata": {},
   "outputs": [
    {
     "data": {
      "text/plain": [
       "['https://www.indeed.com/company/WTF-DIGITAL/jobs/Data-Scientist-dda20b6589d3de4f?fccid=8020b1127d57b812&vjs=3',\n",
       " 'https://www.indeed.com/rc/clk?jk=10ce94304e4f3254&fccid=e34a8bfa908cfda2&vjs=3',\n",
       " 'https://www.indeed.com/company/WithHealth,-Inc./jobs/Senior-Data-Scientist-1b9a2896f416c9f5?fccid=afbf73832175724f&vjs=3',\n",
       " 'https://www.indeed.com/rc/clk?jk=b612e4d97a48e2fb&fccid=e2a2a5c0f4f84192&vjs=3',\n",
       " 'https://www.indeed.com/rc/clk?jk=abb4a8359abeeb2e&fccid=fe2d21eef233e94a&vjs=3',\n",
       " 'https://www.indeed.com/rc/clk?jk=3d5724ad39c214bb&fccid=9993304a3df214bf&vjs=3',\n",
       " 'https://www.indeed.com/company/CS-Solutions-Inc/jobs/Data-Scientist-fc457dfccb348979?fccid=d7d214065e5de0b6&vjs=3',\n",
       " 'https://www.indeed.com/company/C2S-Technologies/jobs/Data-Scientist-9d198a5949bdec9c?fccid=eb4bc656c7659573&vjs=3',\n",
       " 'https://www.indeed.com/company/Eateam/jobs/Data-Scientist-1c9685211454261a?fccid=50b31c1f60e549ba&vjs=3',\n",
       " 'https://www.indeed.com/company/The-TIE/jobs/Cryptocurrency-Data-Scientist-dd27e5a232e9a3dc?fccid=2c080a0574ff3c41&vjs=3',\n",
       " 'https://www.indeed.com/rc/clk?jk=c2745f2c9cc6cc85&fccid=734cb5a01ee60f80&vjs=3',\n",
       " 'https://www.indeed.com/rc/clk?jk=bb0673648abdecf0&fccid=dd616958bd9ddc12&vjs=3',\n",
       " 'https://www.indeed.com/rc/clk?jk=9620688add68f90b&fccid=734cb5a01ee60f80&vjs=3',\n",
       " 'https://www.indeed.com/rc/clk?jk=5db0bf4a8de2d543&fccid=d718808518895b44&vjs=3',\n",
       " 'https://www.indeed.com/rc/clk?jk=1f0040be0579af5e&fccid=734cb5a01ee60f80&vjs=3']"
      ]
     },
     "execution_count": 19,
     "metadata": {},
     "output_type": "execute_result"
    }
   ],
   "source": [
    "clean_links"
   ]
  },
  {
   "cell_type": "code",
   "execution_count": 20,
   "metadata": {},
   "outputs": [],
   "source": [
    "job_table['Job Title'] = titles\n",
    "job_table['Organization'] = orgs\n",
    "job_table['Link'] = clean_links"
   ]
  },
  {
   "cell_type": "code",
   "execution_count": 21,
   "metadata": {},
   "outputs": [
    {
     "data": {
      "text/html": [
       "<div>\n",
       "<style scoped>\n",
       "    .dataframe tbody tr th:only-of-type {\n",
       "        vertical-align: middle;\n",
       "    }\n",
       "\n",
       "    .dataframe tbody tr th {\n",
       "        vertical-align: top;\n",
       "    }\n",
       "\n",
       "    .dataframe thead th {\n",
       "        text-align: right;\n",
       "    }\n",
       "</style>\n",
       "<table border=\"1\" class=\"dataframe\">\n",
       "  <thead>\n",
       "    <tr style=\"text-align: right;\">\n",
       "      <th></th>\n",
       "      <th>Job Title</th>\n",
       "      <th>Organization</th>\n",
       "      <th>Link</th>\n",
       "    </tr>\n",
       "  </thead>\n",
       "  <tbody>\n",
       "    <tr>\n",
       "      <th>0</th>\n",
       "      <td>Data Scientist</td>\n",
       "      <td>dynamicbitit.com</td>\n",
       "      <td>https://www.indeed.com/company/WTF-DIGITAL/job...</td>\n",
       "    </tr>\n",
       "    <tr>\n",
       "      <th>1</th>\n",
       "      <td>Data Scientist (entry level)</td>\n",
       "      <td>Saturn Cloud</td>\n",
       "      <td>https://www.indeed.com/rc/clk?jk=10ce94304e4f3...</td>\n",
       "    </tr>\n",
       "    <tr>\n",
       "      <th>2</th>\n",
       "      <td>Sr. Data Scientist</td>\n",
       "      <td>WithHealth, Inc.</td>\n",
       "      <td>https://www.indeed.com/company/WithHealth,-Inc...</td>\n",
       "    </tr>\n",
       "    <tr>\n",
       "      <th>3</th>\n",
       "      <td>Research Data Scientist II</td>\n",
       "      <td>Cleveland Clinic</td>\n",
       "      <td>https://www.indeed.com/rc/clk?jk=b612e4d97a48e...</td>\n",
       "    </tr>\n",
       "    <tr>\n",
       "      <th>4</th>\n",
       "      <td>Data Scientist, Amazon Studios</td>\n",
       "      <td>Amazon Studios LLC</td>\n",
       "      <td>https://www.indeed.com/rc/clk?jk=abb4a8359abee...</td>\n",
       "    </tr>\n",
       "    <tr>\n",
       "      <th>5</th>\n",
       "      <td>Data Scientist - Analytics</td>\n",
       "      <td>Acorn Analytics</td>\n",
       "      <td>https://www.indeed.com/rc/clk?jk=3d5724ad39c21...</td>\n",
       "    </tr>\n",
       "    <tr>\n",
       "      <th>6</th>\n",
       "      <td>Data Scientist</td>\n",
       "      <td>CS Solutions Inc</td>\n",
       "      <td>https://www.indeed.com/company/CS-Solutions-In...</td>\n",
       "    </tr>\n",
       "    <tr>\n",
       "      <th>7</th>\n",
       "      <td>Data Scientist</td>\n",
       "      <td>C2S Technologies</td>\n",
       "      <td>https://www.indeed.com/company/C2S-Technologie...</td>\n",
       "    </tr>\n",
       "    <tr>\n",
       "      <th>8</th>\n",
       "      <td>Data Scientist</td>\n",
       "      <td>Eateam</td>\n",
       "      <td>https://www.indeed.com/company/Eateam/jobs/Dat...</td>\n",
       "    </tr>\n",
       "    <tr>\n",
       "      <th>9</th>\n",
       "      <td>Cryptocurrency Data Scientist</td>\n",
       "      <td>The TIE</td>\n",
       "      <td>https://www.indeed.com/company/The-TIE/jobs/Cr...</td>\n",
       "    </tr>\n",
       "    <tr>\n",
       "      <th>10</th>\n",
       "      <td>Data &amp; Applied Scientist</td>\n",
       "      <td>Microsoft</td>\n",
       "      <td>https://www.indeed.com/rc/clk?jk=c2745f2c9cc6c...</td>\n",
       "    </tr>\n",
       "    <tr>\n",
       "      <th>11</th>\n",
       "      <td>Data Scientist</td>\n",
       "      <td>Dave</td>\n",
       "      <td>https://www.indeed.com/rc/clk?jk=bb0673648abde...</td>\n",
       "    </tr>\n",
       "    <tr>\n",
       "      <th>12</th>\n",
       "      <td>Internship Opportunities for Students: Data &amp; ...</td>\n",
       "      <td>Microsoft</td>\n",
       "      <td>https://www.indeed.com/rc/clk?jk=9620688add68f...</td>\n",
       "    </tr>\n",
       "    <tr>\n",
       "      <th>13</th>\n",
       "      <td>Data Scientist</td>\n",
       "      <td>Westfield Insurance</td>\n",
       "      <td>https://www.indeed.com/rc/clk?jk=5db0bf4a8de2d...</td>\n",
       "    </tr>\n",
       "    <tr>\n",
       "      <th>14</th>\n",
       "      <td>Full Time Opportunities for Students or Recent...</td>\n",
       "      <td>Microsoft</td>\n",
       "      <td>https://www.indeed.com/rc/clk?jk=1f0040be0579a...</td>\n",
       "    </tr>\n",
       "  </tbody>\n",
       "</table>\n",
       "</div>"
      ],
      "text/plain": [
       "                                            Job Title         Organization  \\\n",
       "0                                      Data Scientist     dynamicbitit.com   \n",
       "1                        Data Scientist (entry level)         Saturn Cloud   \n",
       "2                                  Sr. Data Scientist     WithHealth, Inc.   \n",
       "3                          Research Data Scientist II     Cleveland Clinic   \n",
       "4                      Data Scientist, Amazon Studios   Amazon Studios LLC   \n",
       "5                          Data Scientist - Analytics      Acorn Analytics   \n",
       "6                                      Data Scientist     CS Solutions Inc   \n",
       "7                                      Data Scientist     C2S Technologies   \n",
       "8                                      Data Scientist               Eateam   \n",
       "9                       Cryptocurrency Data Scientist              The TIE   \n",
       "10                           Data & Applied Scientist            Microsoft   \n",
       "11                                     Data Scientist                 Dave   \n",
       "12  Internship Opportunities for Students: Data & ...            Microsoft   \n",
       "13                                     Data Scientist  Westfield Insurance   \n",
       "14  Full Time Opportunities for Students or Recent...            Microsoft   \n",
       "\n",
       "                                                 Link  \n",
       "0   https://www.indeed.com/company/WTF-DIGITAL/job...  \n",
       "1   https://www.indeed.com/rc/clk?jk=10ce94304e4f3...  \n",
       "2   https://www.indeed.com/company/WithHealth,-Inc...  \n",
       "3   https://www.indeed.com/rc/clk?jk=b612e4d97a48e...  \n",
       "4   https://www.indeed.com/rc/clk?jk=abb4a8359abee...  \n",
       "5   https://www.indeed.com/rc/clk?jk=3d5724ad39c21...  \n",
       "6   https://www.indeed.com/company/CS-Solutions-In...  \n",
       "7   https://www.indeed.com/company/C2S-Technologie...  \n",
       "8   https://www.indeed.com/company/Eateam/jobs/Dat...  \n",
       "9   https://www.indeed.com/company/The-TIE/jobs/Cr...  \n",
       "10  https://www.indeed.com/rc/clk?jk=c2745f2c9cc6c...  \n",
       "11  https://www.indeed.com/rc/clk?jk=bb0673648abde...  \n",
       "12  https://www.indeed.com/rc/clk?jk=9620688add68f...  \n",
       "13  https://www.indeed.com/rc/clk?jk=5db0bf4a8de2d...  \n",
       "14  https://www.indeed.com/rc/clk?jk=1f0040be0579a...  "
      ]
     },
     "execution_count": 21,
     "metadata": {},
     "output_type": "execute_result"
    }
   ],
   "source": [
    "job_table"
   ]
  },
  {
   "cell_type": "markdown",
   "metadata": {},
   "source": [
    "Now let's move towards scraping the job page. Let's take the first link. "
   ]
  },
  {
   "cell_type": "code",
   "execution_count": 22,
   "metadata": {},
   "outputs": [
    {
     "data": {
      "text/plain": [
       "'https://www.indeed.com/company/WTF-DIGITAL/jobs/Data-Scientist-dda20b6589d3de4f?fccid=8020b1127d57b812&vjs=3'"
      ]
     },
     "execution_count": 22,
     "metadata": {},
     "output_type": "execute_result"
    }
   ],
   "source": [
    "jd_link = job_table['Link'][0]\n",
    "jd_link"
   ]
  },
  {
   "cell_type": "code",
   "execution_count": 38,
   "metadata": {},
   "outputs": [],
   "source": [
    "jd_page = requests.get(jd_link)"
   ]
  },
  {
   "cell_type": "code",
   "execution_count": 41,
   "metadata": {},
   "outputs": [
    {
     "data": {
      "text/plain": [
       "<Response [200]>"
      ]
     },
     "execution_count": 41,
     "metadata": {},
     "output_type": "execute_result"
    }
   ],
   "source": [
    "jd_page"
   ]
  },
  {
   "cell_type": "code",
   "execution_count": 39,
   "metadata": {},
   "outputs": [],
   "source": [
    "jd_content = jd_page.text"
   ]
  },
  {
   "cell_type": "code",
   "execution_count": 40,
   "metadata": {},
   "outputs": [],
   "source": [
    "jd_parser = BeautifulSoup(jd_content,'html.parser')"
   ]
  },
  {
   "cell_type": "code",
   "execution_count": 96,
   "metadata": {},
   "outputs": [
    {
     "data": {
      "text/plain": [
       "<div class=\"jobsearch-jobDescriptionText\" id=\"jobDescriptionText\"><p><b>Dear Professional,</b></p><p>Lost job because of Covid-19...!! do not worry.<br/>Looking for a new job/switch....!! do not worry.</p><p>Top MNC's have come up with vacancies, as everything is being digitalized so there are huge opportunities for skilled professionals.<br/>Till December 2020 WFH option is available</p><p><b>Job brief</b></p><p>We are looking for a Data Scientist to analyze large amounts of raw information to find patterns that will help improve our company. We will rely on you to build data products to extract valuable business insights.</p><p>In this role, you should be highly analytical with a knack for analysis, math and statistics. Critical thinking and problem-solving skills are essential for interpreting data. We also want to see a passion for machine-learning and research.</p><p>Your goal will be to help our company analyze trends to make better decisions.<br/><b>Responsibilities</b></p><ul><li>Identify valuable data sources and automate collection processes</li><li>Undertake preprocessing of structured and unstructured data</li><li>Analyze large amounts of information to discover trends and patterns</li><li>Build predictive models and machine-learning algorithms</li><li>Combine models through ensemble modeling</li><li>Present information using data visualization techniques</li><li>Propose solutions and strategies to business challenges</li><li>Collaborate with engineering and product development teams</li></ul><p><b>Requirements</b></p><ul><li>Proven experience as a Data Scientist or Data Analyst</li><li>Experience in data mining</li><li>Understanding of machine-learning and operations research</li><li>Knowledge of R, SQL and Python; familiarity with Scala, Java or C++ is an asset</li><li>Experience using business intelligence tools (e.g. Tableau) and data frameworks (e.g. Hadoop)</li><li>Analytical mind and business acumen</li><li>Strong math skills (e.g. statistics, algebra)</li><li>Problem-solving aptitude</li><li>Excellent communication and presentation skills</li><li>BSc/BA in Computer Science, Engineering or relevant field; graduate degree in Data Science or other quantitative field is preferred</li></ul><p>KIndly apply if: -<br/>*you want to work with big clients and get place by fortune 500 company.</p><p>*you want to fulfil your dream and work near by your location.</p><p>*you want stable job and make your life and personality look different from other candidate.</p><p>call on@929-336-3751</p><p>Job Types: Full-time, Contract</p><p>Pay: $65,000.00 - $90,000.00 per year</p><p>Work Remotely:</p><ul><li>Temporarily due to COVID-19</li></ul></div>"
      ]
     },
     "execution_count": 96,
     "metadata": {},
     "output_type": "execute_result"
    }
   ],
   "source": [
    "jd_parser.find('div', class_ = 'jobsearch-jobDescriptionText')"
   ]
  },
  {
   "cell_type": "code",
   "execution_count": 97,
   "metadata": {},
   "outputs": [],
   "source": [
    "jd = jd_parser.find('div', class_ = 'jobsearch-jobDescriptionText').text"
   ]
  },
  {
   "cell_type": "code",
   "execution_count": 98,
   "metadata": {},
   "outputs": [
    {
     "data": {
      "text/plain": [
       "\"Dear Professional,Lost job because of Covid-19...!! do not worry.Looking for a new job/switch....!! do not worry.Top MNC's have come up with vacancies, as everything is being digitalized so there are huge opportunities for skilled professionals.Till December 2020 WFH option is availableJob briefWe are looking for a Data Scientist to analyze large amounts of raw information to find patterns that will help improve our company. We will rely on you to build data products to extract valuable business insights.In this role, you should be highly analytical with a knack for analysis, math and statistics. Critical thinking and problem-solving skills are essential for interpreting data. We also want to see a passion for machine-learning and research.Your goal will be to help our company analyze trends to make better decisions.ResponsibilitiesIdentify valuable data sources and automate collection processesUndertake preprocessing of structured and unstructured dataAnalyze large amounts of information to discover trends and patternsBuild predictive models and machine-learning algorithmsCombine models through ensemble modelingPresent information using data visualization techniquesPropose solutions and strategies to business challengesCollaborate with engineering and product development teamsRequirementsProven experience as a Data Scientist or Data AnalystExperience in data miningUnderstanding of machine-learning and operations researchKnowledge of R, SQL and Python; familiarity with Scala, Java or C++ is an assetExperience using business intelligence tools (e.g. Tableau) and data frameworks (e.g. Hadoop)Analytical mind and business acumenStrong math skills (e.g. statistics, algebra)Problem-solving aptitudeExcellent communication and presentation skillsBSc/BA in Computer Science, Engineering or relevant field; graduate degree in Data Science or other quantitative field is preferredKIndly apply if: -*you want to work with big clients and get place by fortune 500 company.*you want to fulfil your dream and work near by your location.*you want stable job and make your life and personality look different from other candidate.call on@929-336-3751Job Types: Full-time, ContractPay: $65,000.00 - $90,000.00 per yearWork Remotely:Temporarily due to COVID-19\""
      ]
     },
     "execution_count": 98,
     "metadata": {},
     "output_type": "execute_result"
    }
   ],
   "source": [
    "jd"
   ]
  },
  {
   "cell_type": "markdown",
   "metadata": {},
   "source": [
    "Some data cleaning"
   ]
  },
  {
   "cell_type": "code",
   "execution_count": 103,
   "metadata": {},
   "outputs": [
    {
     "data": {
      "text/plain": [
       "\"dear professional,lost job because of covid-19...!! do not worry.looking for a new job/switch....!! do not worry.top mnc's have come up with vacancies, as everything is being digitalized so there are huge opportunities for skilled professionals.till december 2020 wfh option is availablejob briefwe are looking for a data scientist to analyze large amounts of raw information to find patterns that will help improve our company. we will rely on you to build data products to extract valuable business insights.in this role, you should be highly analytical with a knack for analysis, math and statistics. critical thinking and problem-solving skills are essential for interpreting data. we also want to see a passion for machine-learning and research.your goal will be to help our company analyze trends to make better decisions.responsibilitiesidentify valuable data sources and automate collection processesundertake preprocessing of structured and unstructured dataanalyze large amounts of information to discover trends and patternsbuild predictive models and machine-learning algorithmscombine models through ensemble modelingpresent information using data visualization techniquespropose solutions and strategies to business challengescollaborate with engineering and product development teamsrequirementsproven experience as a data scientist or data analystexperience in data miningunderstanding of machine-learning and operations researchknowledge of r, sql and python; familiarity with scala, java or c++ is an assetexperience using business intelligence tools (e.g. tableau) and data frameworks (e.g. hadoop)analytical mind and business acumenstrong math skills (e.g. statistics, algebra)problem-solving aptitudeexcellent communication and presentation skillsbsc/ba in computer science, engineering or relevant field; graduate degree in data science or other quantitative field is preferredkindly apply if: -*you want to work with big clients and get place by fortune 500 company.*you want to fulfil your dream and work near by your location.*you want stable job and make your life and personality look different from other candidate.call on@929-336-3751job types: full-time, contractpay: $65,000.00 - $90,000.00 per yearwork remotely:temporarily due to covid-19\""
      ]
     },
     "execution_count": 103,
     "metadata": {},
     "output_type": "execute_result"
    }
   ],
   "source": [
    "jd = jd.lower()\n",
    "jd"
   ]
  },
  {
   "cell_type": "code",
   "execution_count": 110,
   "metadata": {},
   "outputs": [
    {
     "data": {
      "text/plain": [
       "True"
      ]
     },
     "execution_count": 110,
     "metadata": {},
     "output_type": "execute_result"
    }
   ],
   "source": [
    "'python' in jd"
   ]
  },
  {
   "cell_type": "code",
   "execution_count": 131,
   "metadata": {},
   "outputs": [],
   "source": [
    "skills_set = ['Python','SQL','Command Line', 'Tableau','Excel', 'HADOOP','proven','knowledge']"
   ]
  },
  {
   "cell_type": "code",
   "execution_count": 132,
   "metadata": {},
   "outputs": [],
   "source": [
    "test_dic = {}\n",
    "\n",
    "for skill in skills_set:\n",
    "    skill = skill.lower()\n",
    "    \n",
    "    if skill in jd:\n",
    "        test_dic[skill] =1\n",
    "        "
   ]
  },
  {
   "cell_type": "code",
   "execution_count": 133,
   "metadata": {},
   "outputs": [
    {
     "data": {
      "text/plain": [
       "{'python': 1,\n",
       " 'sql': 1,\n",
       " 'tableau': 1,\n",
       " 'excel': 1,\n",
       " 'hadoop': 1,\n",
       " 'proven': 1,\n",
       " 'do': 1}"
      ]
     },
     "execution_count": 133,
     "metadata": {},
     "output_type": "execute_result"
    }
   ],
   "source": [
    "test_dic"
   ]
  },
  {
   "cell_type": "markdown",
   "metadata": {},
   "source": [
    "Luckily we don't have to clean the data that much. Ok now let's test another link."
   ]
  },
  {
   "cell_type": "code",
   "execution_count": 134,
   "metadata": {},
   "outputs": [
    {
     "data": {
      "text/plain": [
       "'https://www.indeed.com/rc/clk?jk=10ce94304e4f3254&fccid=e34a8bfa908cfda2&vjs=3'"
      ]
     },
     "execution_count": 134,
     "metadata": {},
     "output_type": "execute_result"
    }
   ],
   "source": [
    "jd_link2 = job_table['Link'][1]\n",
    "jd_link2"
   ]
  },
  {
   "cell_type": "code",
   "execution_count": 138,
   "metadata": {},
   "outputs": [],
   "source": [
    "jd_page2 = requests.get(jd_link2).text"
   ]
  },
  {
   "cell_type": "code",
   "execution_count": 140,
   "metadata": {},
   "outputs": [],
   "source": [
    "jd_parser2 = BeautifulSoup(jd_page2,'html.parser')"
   ]
  },
  {
   "cell_type": "code",
   "execution_count": 141,
   "metadata": {},
   "outputs": [],
   "source": [
    "jd2 = jd = jd_parser2.find('div', class_ = 'jobsearch-jobDescriptionText').text"
   ]
  },
  {
   "cell_type": "code",
   "execution_count": 143,
   "metadata": {},
   "outputs": [],
   "source": [
    "jd2 = jd2.lower()"
   ]
  },
  {
   "cell_type": "code",
   "execution_count": 144,
   "metadata": {},
   "outputs": [
    {
     "data": {
      "text/plain": [
       "'overview\\nsaturn cloud helps companies perform data science at a new level of scale, with one-click solutions, to solve the world’s hardest problems. our product is a saas platform which equips data science teams with high-leverage automation tools, eliminating hours of traditional, manual work. the platform is user-friendly, scalable and secure.\\n\\nyou will be an entry-level data scientist for saturn cloud, an exciting new venture founded by the creators of anaconda and core authors of the pydata stack. the role features drafting the first generation of saturn resource materials, tutorials, and technical content.\\nresponsibilities\\nwork on high-visibility projects (e.g. text and video tutorials, use-case examples, contributions to our engineering blog)\\n\\nparticipate in research and user engagement to deliver polished technical content, documentation, and resources\\n\\nconduct various data science analysis and activities in order to generate reproduce-able, valuable, and up-to-date resources for public-facing sites (our website, social channels, etc)\\n\\nown cross-functional interactions for your projects (across eng/marketing/field/sales)\\n\\ncompany:\\n\\nsaturn cloud\\n\\nqualifications:\\n\\nrequirements\\nexcellent writer and communicator, proficient in generating engaging content\\n\\nexperience that includes: data science (degree or bootcamp), writing and communication (degree or experience), working in an enterprise environment\\n\\nproficient knowledge of r or python, sql\\n\\ncomfortable with quantitative analysis, statistical techniques, data mining\\n\\nstrong interpersonal skills and ability to influence others\\n\\ngreat team player\\n\\ntagged as: data mining, industry, united states'"
      ]
     },
     "execution_count": 144,
     "metadata": {},
     "output_type": "execute_result"
    }
   ],
   "source": [
    "jd2"
   ]
  },
  {
   "cell_type": "code",
   "execution_count": 148,
   "metadata": {},
   "outputs": [],
   "source": [
    "test_dic2 = {}\n",
    "\n",
    "for skill in skills_set:\n",
    "    skill = skill.lower()\n",
    "    \n",
    "    if skill in jd2:\n",
    "        test_dic2[skill] =1\n",
    "        "
   ]
  },
  {
   "cell_type": "code",
   "execution_count": 149,
   "metadata": {},
   "outputs": [
    {
     "data": {
      "text/plain": [
       "{'python': 1, 'sql': 1, 'excel': 1, 'do': 1}"
      ]
     },
     "execution_count": 149,
     "metadata": {},
     "output_type": "execute_result"
    }
   ],
   "source": [
    "test_dic2"
   ]
  },
  {
   "cell_type": "code",
   "execution_count": null,
   "metadata": {},
   "outputs": [],
   "source": []
  }
 ],
 "metadata": {
  "kernelspec": {
   "display_name": "Python 3",
   "language": "python",
   "name": "python3"
  },
  "language_info": {
   "codemirror_mode": {
    "name": "ipython",
    "version": 3
   },
   "file_extension": ".py",
   "mimetype": "text/x-python",
   "name": "python",
   "nbconvert_exporter": "python",
   "pygments_lexer": "ipython3",
   "version": "3.7.4"
  }
 },
 "nbformat": 4,
 "nbformat_minor": 2
}
