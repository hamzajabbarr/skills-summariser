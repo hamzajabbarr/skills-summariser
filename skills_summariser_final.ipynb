{
 "cells": [
  {
   "cell_type": "code",
   "execution_count": 1,
   "metadata": {},
   "outputs": [],
   "source": [
    "import pyforest \n",
    "import requests\n",
    "from bs4 import BeautifulSoup"
   ]
  },
  {
   "cell_type": "code",
   "execution_count": 2,
   "metadata": {},
   "outputs": [
    {
     "name": "stdout",
     "output_type": "stream",
     "text": [
      "Brainstorming : \n",
      "\n",
      "1) Give user the option of choosing the country and job type. Will have to string format the link \n",
      "2) Some of the jobs have incomplete links. Will have to concat to make the link complete. Use regex and for loop to check if starts with https.\n",
      "3) Will have to set a time between scrape for each page and then for scraping of each link. Have to set cap at number of total jobs as well. \n",
      "4) Ask the user for the list of skills he want a summary. That way we can expand it to incorporate any job title and skill set. \n",
      "\n",
      "\n",
      "Final Workflow:\n",
      "\n",
      "1) Ask the user to input the following ; Job Title , Country, Skills Set\n",
      "2) Write a small script that gives back how many jobs on indeed.\n",
      "3) Ask the user to input how many jobs he wants to look through. Give a heads up that the more the jobs, the more the time it will take to run. Remember jobs are sorted by relevance by default.\n",
      "4) Start the script."
     ]
    }
   ],
   "source": [
    "%%bash \n",
    "cat 'project notes'"
   ]
  },
  {
   "cell_type": "code",
   "execution_count": 3,
   "metadata": {},
   "outputs": [],
   "source": [
    "import contextlib\n",
    "import time\n",
    "\n",
    "@contextlib.contextmanager\n",
    "def timer():\n",
    "    '''Calculate time it takes for process to complete\n",
    "    \n",
    "    Args:\n",
    "      None\n",
    "      \n",
    "    Yields:\n",
    "       float : the time in minutes for process to run\n",
    "    '''\n",
    "    start_time = time.time()\n",
    "    \n",
    "    yield\n",
    "    \n",
    "    end_time = time.time()\n",
    "    \n",
    "    final_time = (end_time - start_time) / 60\n",
    "    \n",
    "    print(\"The time it took to scrape and compile the results was : {:.2f} minutes\".format(final_time))\n",
    "    "
   ]
  },
  {
   "cell_type": "code",
   "execution_count": 51,
   "metadata": {},
   "outputs": [
    {
     "name": "stdout",
     "output_type": "stream",
     "text": [
      "Hello and welcome to the skills summariser. Let's get going\n",
      "\n",
      "Enter the job title you want to search for:data analyst \n",
      "Which country would you like to search in (no abbrevations please):united states\n",
      "Enter the skills you want a summary for and make sure you seperate each skill by a space:python sql excel\n",
      "How many jobs do you want to look through. The more the jobs the longer the script might take:89\n"
     ]
    },
    {
     "data": {
      "application/javascript": [
       "\n",
       "        if (window._pyforest_update_imports_cell) { window._pyforest_update_imports_cell('from pathlib import Path\\nfrom sklearn.preprocessing import OneHotEncoder\\nfrom sklearn.ensemble import GradientBoostingRegressor\\nfrom sklearn.ensemble import RandomForestClassifier\\nfrom pyspark import SparkContext\\nfrom sklearn.ensemble import RandomForestRegressor\\nfrom sklearn.ensemble import GradientBoostingClassifier\\nfrom sklearn.feature_extraction.text import TfidfVectorizer\\nimport pandas as pd\\nfrom sklearn.manifold import TSNE'); }\n",
       "    "
      ],
      "text/plain": [
       "<IPython.core.display.Javascript object>"
      ]
     },
     "metadata": {},
     "output_type": "display_data"
    },
    {
     "data": {
      "application/javascript": [
       "\n",
       "        if (window._pyforest_update_imports_cell) { window._pyforest_update_imports_cell('from pathlib import Path\\nfrom sklearn.preprocessing import OneHotEncoder\\nfrom sklearn.ensemble import GradientBoostingRegressor\\nfrom sklearn.ensemble import RandomForestClassifier\\nfrom pyspark import SparkContext\\nfrom sklearn.ensemble import RandomForestRegressor\\nfrom sklearn.ensemble import GradientBoostingClassifier\\nfrom sklearn.feature_extraction.text import TfidfVectorizer\\nimport pandas as pd\\nfrom sklearn.manifold import TSNE'); }\n",
       "    "
      ],
      "text/plain": [
       "<IPython.core.display.Javascript object>"
      ]
     },
     "metadata": {},
     "output_type": "display_data"
    },
    {
     "name": "stdout",
     "output_type": "stream",
     "text": [
      "The time it took to scrape and compile the results was : 0.89 minutes\n"
     ]
    }
   ],
   "source": [
    "from random import randint\n",
    "\n",
    "print('Hello and welcome to the skills summariser. Let\\'s get going')\n",
    "print('')\n",
    "\n",
    "job_title = input('Enter the job title you want to search for:')\n",
    "country = input('Which country would you like to search in (no abbrevations please):')\n",
    "skills = input('Enter the skills you want a summary for and make sure you seperate each skill by a space:')\n",
    "n_jobs = input('How many jobs do you want to look through. The more the jobs the longer the script might take:')\n",
    "#initial cleaning \n",
    "\n",
    "job_title = job_title.title()\n",
    "country = country.title()\n",
    "skills = skills.lower().split()\n",
    "\n",
    "#'https://www.indeed.com/jobs?q=business+analyst&l=United+States'\n",
    "primary_link = 'https://www.indeed.com/jobs?q={0}&l={1}'\n",
    "further_pages_link = 'https://www.indeed.com/jobs?q={0}&l={1}&start={2}'\n",
    "\n",
    "\n",
    "with timer():\n",
    "    job_df = pd.DataFrame(columns = ['Job Title', 'Organization', 'Job Link'])\n",
    "    num = 2\n",
    "    start_range = list(range(10,50,10))\n",
    "    skills_dict = {}\n",
    "    titles = []\n",
    "    orgs = []\n",
    "    clean_links = []\n",
    "\n",
    "    \n",
    "    \n",
    "#     while job_df.shape[0] <= int(n_jobs):\n",
    "    if num == 1:\n",
    "        link = primary_link.format(job_title,country)\n",
    "        job_links_page = requests.get(link).text\n",
    "        first_page_parser = BeautifulSoup(job_links_page,'html.parser')\n",
    "        scraped_first_page = first_page_parser.body.find_all('div', attrs = {'data-tn-component':'organicJob'})\n",
    "            \n",
    "        for job in scraped_first_page:\n",
    "            title = job.a.text.strip()\n",
    "            titles.append(title)\n",
    "    \n",
    "            org = job.div.span.text.strip()\n",
    "            orgs.append(org)\n",
    "    \n",
    "            link = job.a.get('href')\n",
    "    \n",
    "            if link.startswith('https'):\n",
    "                clean_links.append(link)\n",
    "            else:\n",
    "                join_link = \"https://www.indeed.com\"+link\n",
    "                clean_links.append(join_link)\n",
    "            \n",
    "        job_df['Job Title'] = titles\n",
    "        job_df['Organization'] = orgs\n",
    "        job_df['Job Link'] = clean_links\n",
    "            \n",
    "        for l in clean_links:\n",
    "            try:\n",
    "                jd_request = requests.get(l)\n",
    "                if jd_request.status_code == 200:\n",
    "                    jd_cont = jd_request.text\n",
    "                    job_page = BeautifulSoup(jd_cont,'html.parser')\n",
    "                    description = job_page.find('div', class_ = 'jobsearch-jobDescriptionText').text\n",
    "                    description = description.lower()\n",
    "        \n",
    "                    for skill in skills:\n",
    "                \n",
    "                        if skill in description:\n",
    "                            if skill in skills_dict:\n",
    "                                skills_dict[skill] +=1\n",
    "                            else:\n",
    "                                skills_dict[skill] = 1\n",
    "                        \n",
    "        \n",
    "        \n",
    "        \n",
    "            except:\n",
    "                continue\n",
    "        \n",
    "        \n",
    "#the code for scraping page 2 and forward starts from here\n",
    "            \n",
    "    else:\n",
    "        temp_df = pd.DataFrame(columns = ['Job_Title', 'Organization','Job_Link'])\n",
    "        temp_titles = []\n",
    "        temp_orgs = []\n",
    "        temp_links = []\n",
    "        \n",
    "        for num in start_range:\n",
    "            link_cont = further_pages_link.format(job_title,country,num)\n",
    "            more_links_page = requests.get(link_cont).text\n",
    "            pages_parser = BeautifulSoup(more_links_page,'html.parser')\n",
    "            scraped_page = pages_parser.body.find_all('div', attrs = {'data-tn-component':'organicJob'})\n",
    "            \n",
    "            for jobs in scraped_page:\n",
    "                more_titles = jobs.a.text.strip()\n",
    "                temp_titles.append(more_titles)\n",
    "    \n",
    "                more_orgs = jobs.div.span.text.strip()\n",
    "                temp_orgs.append(more_orgs)\n",
    "    \n",
    "                more_links = jobs.a.get('href')\n",
    "    \n",
    "                if more_links.startswith('https'):\n",
    "                    temp_links.append(more_links)\n",
    "                else:\n",
    "                    join_links = \"https://www.indeed.com\"+more_links\n",
    "                    temp_links.append(join_links)\n",
    "            \n",
    "#             temp_df['Job_Title'] = temp_titles\n",
    "#             temp_df['Organization'] = temp_orgs\n",
    "#             temp_df['Job_Link'] = temp_links\n",
    "            \n",
    "#             test_df = pd.concat([temp_df, test_df], axis = 0, ignore_index = False)\n",
    "            \n",
    "            for l in temp_links:\n",
    "                try:\n",
    "                    jd_request = requests.get(l)\n",
    "                    if jd_request.status_code == 200:\n",
    "                        jd_cont = jd_request.text\n",
    "                        job_page = BeautifulSoup(jd_cont,'html.parser')\n",
    "                        description = job_page.find('div', class_ = 'jobsearch-jobDescriptionText').text\n",
    "                        description = description.lower()\n",
    "        \n",
    "                        for skill in skills:\n",
    "                \n",
    "                            if skill in description:\n",
    "                                if skill in skills_dict:\n",
    "                                    skills_dict[skill] += 1\n",
    "                                else:\n",
    "                                    skills_dict[skill] = 1\n",
    "                except:\n",
    "                    continue\n",
    "            \n",
    "        \n",
    "        \n",
    "        \n"
   ]
  },
  {
   "cell_type": "code",
   "execution_count": 49,
   "metadata": {},
   "outputs": [],
   "source": [
    "test_df = job_df"
   ]
  },
  {
   "cell_type": "code",
   "execution_count": 52,
   "metadata": {},
   "outputs": [
    {
     "data": {
      "text/plain": [
       "{'excel': 92, 'python': 39, 'sql': 95}"
      ]
     },
     "execution_count": 52,
     "metadata": {},
     "output_type": "execute_result"
    }
   ],
   "source": [
    "skills_dict"
   ]
  },
  {
   "cell_type": "code",
   "execution_count": 38,
   "metadata": {},
   "outputs": [
    {
     "data": {
      "text/html": [
       "<div>\n",
       "<style scoped>\n",
       "    .dataframe tbody tr th:only-of-type {\n",
       "        vertical-align: middle;\n",
       "    }\n",
       "\n",
       "    .dataframe tbody tr th {\n",
       "        vertical-align: top;\n",
       "    }\n",
       "\n",
       "    .dataframe thead th {\n",
       "        text-align: right;\n",
       "    }\n",
       "</style>\n",
       "<table border=\"1\" class=\"dataframe\">\n",
       "  <thead>\n",
       "    <tr style=\"text-align: right;\">\n",
       "      <th></th>\n",
       "      <th>Job Title</th>\n",
       "      <th>Organization</th>\n",
       "      <th>Job Link</th>\n",
       "    </tr>\n",
       "  </thead>\n",
       "  <tbody>\n",
       "    <tr>\n",
       "      <th>0</th>\n",
       "      <td>DATA ANALYST</td>\n",
       "      <td>Clare Foundation, Inc.</td>\n",
       "      <td>https://www.indeed.com/rc/clk?jk=f32a20440a730...</td>\n",
       "    </tr>\n",
       "    <tr>\n",
       "      <th>1</th>\n",
       "      <td>Data Analyst with Tableau</td>\n",
       "      <td>Pyramid</td>\n",
       "      <td>https://www.indeed.com/company/Pyramid/jobs/Da...</td>\n",
       "    </tr>\n",
       "    <tr>\n",
       "      <th>2</th>\n",
       "      <td>Fall Internship Program – Business Analyst Int...</td>\n",
       "      <td>Bigge Crane and Rigging Co.</td>\n",
       "      <td>https://www.indeed.com/company/Bigge-Crane-and...</td>\n",
       "    </tr>\n",
       "    <tr>\n",
       "      <th>3</th>\n",
       "      <td>Data Analyst</td>\n",
       "      <td>SAC Health System</td>\n",
       "      <td>https://www.indeed.com/rc/clk?jk=7fad3ca7aaaad...</td>\n",
       "    </tr>\n",
       "    <tr>\n",
       "      <th>4</th>\n",
       "      <td>Data Analyst</td>\n",
       "      <td>CallSource</td>\n",
       "      <td>https://www.indeed.com/company/CallSource/jobs...</td>\n",
       "    </tr>\n",
       "    <tr>\n",
       "      <th>5</th>\n",
       "      <td>BI Data Analyst</td>\n",
       "      <td>CHOC Children's</td>\n",
       "      <td>https://www.indeed.com/rc/clk?jk=39c908d983ab7...</td>\n",
       "    </tr>\n",
       "    <tr>\n",
       "      <th>6</th>\n",
       "      <td>Data Analyst</td>\n",
       "      <td>Amazon.com Services LLC</td>\n",
       "      <td>https://www.indeed.com/rc/clk?jk=b75f4273a9510...</td>\n",
       "    </tr>\n",
       "    <tr>\n",
       "      <th>7</th>\n",
       "      <td>Entry Level Data Analyst</td>\n",
       "      <td>Boiling Point</td>\n",
       "      <td>https://www.indeed.com/company/Boiling-Point/j...</td>\n",
       "    </tr>\n",
       "    <tr>\n",
       "      <th>8</th>\n",
       "      <td>Clinical Data Analyst</td>\n",
       "      <td>WithHealth, Inc.</td>\n",
       "      <td>https://www.indeed.com/company/WithHealth,-Inc...</td>\n",
       "    </tr>\n",
       "  </tbody>\n",
       "</table>\n",
       "</div>"
      ],
      "text/plain": [
       "                                           Job Title  \\\n",
       "0                                       DATA ANALYST   \n",
       "1                          Data Analyst with Tableau   \n",
       "2  Fall Internship Program – Business Analyst Int...   \n",
       "3                                       Data Analyst   \n",
       "4                                       Data Analyst   \n",
       "5                                    BI Data Analyst   \n",
       "6                                       Data Analyst   \n",
       "7                           Entry Level Data Analyst   \n",
       "8                              Clinical Data Analyst   \n",
       "\n",
       "                  Organization  \\\n",
       "0       Clare Foundation, Inc.   \n",
       "1                      Pyramid   \n",
       "2  Bigge Crane and Rigging Co.   \n",
       "3            SAC Health System   \n",
       "4                   CallSource   \n",
       "5              CHOC Children's   \n",
       "6      Amazon.com Services LLC   \n",
       "7                Boiling Point   \n",
       "8             WithHealth, Inc.   \n",
       "\n",
       "                                            Job Link  \n",
       "0  https://www.indeed.com/rc/clk?jk=f32a20440a730...  \n",
       "1  https://www.indeed.com/company/Pyramid/jobs/Da...  \n",
       "2  https://www.indeed.com/company/Bigge-Crane-and...  \n",
       "3  https://www.indeed.com/rc/clk?jk=7fad3ca7aaaad...  \n",
       "4  https://www.indeed.com/company/CallSource/jobs...  \n",
       "5  https://www.indeed.com/rc/clk?jk=39c908d983ab7...  \n",
       "6  https://www.indeed.com/rc/clk?jk=b75f4273a9510...  \n",
       "7  https://www.indeed.com/company/Boiling-Point/j...  \n",
       "8  https://www.indeed.com/company/WithHealth,-Inc...  "
      ]
     },
     "execution_count": 38,
     "metadata": {},
     "output_type": "execute_result"
    }
   ],
   "source": [
    "job_df"
   ]
  },
  {
   "cell_type": "code",
   "execution_count": null,
   "metadata": {},
   "outputs": [],
   "source": []
  }
 ],
 "metadata": {
  "kernelspec": {
   "display_name": "Python 3",
   "language": "python",
   "name": "python3"
  },
  "language_info": {
   "codemirror_mode": {
    "name": "ipython",
    "version": 3
   },
   "file_extension": ".py",
   "mimetype": "text/x-python",
   "name": "python",
   "nbconvert_exporter": "python",
   "pygments_lexer": "ipython3",
   "version": "3.7.4"
  }
 },
 "nbformat": 4,
 "nbformat_minor": 2
}
