{
 "cells": [
  {
   "cell_type": "code",
   "execution_count": 1,
   "metadata": {},
   "outputs": [],
   "source": [
    "import pyforest \n",
    "import requests\n",
    "from bs4 import BeautifulSoup"
   ]
  },
  {
   "cell_type": "code",
   "execution_count": 2,
   "metadata": {},
   "outputs": [
    {
     "name": "stdout",
     "output_type": "stream",
     "text": [
      "1) Give user the option of choosing the country and job type. Will have to string format the link \n",
      "2) Some of the jobs have incomplete links. Will have to concat to make the link complete. Use regex and for loop to check if starts with https.\n",
      "3) Will have to set a time between scrape for each page and then for scraping of each link. Have to set cap at number of total jobs as well. \n",
      "4) Ask the user for the list of skills he want a summary. That way we can expand it to incorporate any job title and skill set. "
     ]
    }
   ],
   "source": [
    "%%bash \n",
    "cat 'project notes'"
   ]
  },
  {
   "cell_type": "code",
   "execution_count": 4,
   "metadata": {},
   "outputs": [],
   "source": [
    "import contextlib\n",
    "import time\n",
    "\n",
    "@contextlib.contextmanager\n",
    "def timer():\n",
    "    '''Calculate time it takes for process to complete\n",
    "    \n",
    "    Args:\n",
    "      None\n",
    "      \n",
    "    Yields:\n",
    "       float : the time in minutes for process to run\n",
    "    '''\n",
    "    start_time = time.time()\n",
    "    \n",
    "    yield\n",
    "    \n",
    "    end_time = time.time()\n",
    "    \n",
    "    final_time = (end_time - start_time) / 60\n",
    "    \n",
    "    print(\"The time it took to scrape and compile the results was : {:.2f} minutes\".format(final_time))\n",
    "    "
   ]
  },
  {
   "cell_type": "code",
   "execution_count": 64,
   "metadata": {},
   "outputs": [
    {
     "name": "stdout",
     "output_type": "stream",
     "text": [
      "Hello and welcome to the skills summariser. Let's get going\n",
      "\n",
      "Enter the job title you want to search for: data scientist\n",
      "Which country would you like to search in (no abbrevations please): united states\n",
      "Enter the skills you want a summary for and make sure you seperate each skill by a space: python sql \n",
      "How many jobs do you want to look through. The more the jobs the longer the script might take: 12\n"
     ]
    },
    {
     "data": {
      "application/javascript": [
       "\n",
       "        if (window._pyforest_update_imports_cell) { window._pyforest_update_imports_cell('import pandas as pd'); }\n",
       "    "
      ],
      "text/plain": [
       "<IPython.core.display.Javascript object>"
      ]
     },
     "metadata": {},
     "output_type": "display_data"
    },
    {
     "name": "stdout",
     "output_type": "stream",
     "text": [
      "The time it took to scrape and compile the results was : 0.10 minutes\n"
     ]
    }
   ],
   "source": [
    "from random import randint\n",
    "\n",
    "print('Hello and welcome to the skills summariser. Let\\'s get going')\n",
    "print('')\n",
    "\n",
    "job_title = input('Enter the job title you want to search for: ')\n",
    "country = input('Which country would you like to search in (no abbrevations please): ')\n",
    "skills = input('Enter the skills you want a summary for and make sure you seperate each skill by a space: ')\n",
    "n_jobs = input('How many jobs do you want to look through. The more the jobs the longer the script might take: ')\n",
    "#initial cleaning \n",
    "\n",
    "job_title = job_title.title()\n",
    "country = country.title()\n",
    "skills = skills.lower().split()\n",
    "\n",
    "#'https://www.indeed.com/jobs?q=business+analyst&l=United+States'\n",
    "primary_link = 'https://www.indeed.com/jobs?q={0}&l={1}'\n",
    "further_pages_link = 'https://www.indeed.com/jobs?q={0}&l={1}&start={3}'\n",
    "\n",
    "\n",
    "with timer():\n",
    "    job_df = pd.DataFrame(columns = ['Job Title', 'Organization', 'Job Link'])\n",
    "    num = 1\n",
    "    start_range = list(range(10,20000,10))\n",
    "    skills_dict = {}\n",
    "    titles = []\n",
    "    orgs = []\n",
    "    clean_links = []\n",
    "\n",
    "    \n",
    "    \n",
    "#     while job_df.shape[0] <= int(n_jobs):\n",
    "#         if num == 1:\n",
    "    link = primary_link.format(job_title,country)\n",
    "    job_links_page = requests.get(link).text\n",
    "    first_page_parser = BeautifulSoup(job_links_page,'html.parser')\n",
    "    scraped_first_page = first_page_parser.body.find_all('div', attrs = {'data-tn-component':'organicJob'})\n",
    "            \n",
    "    for job in scraped_first_page:\n",
    "        title = job.a.text.strip()\n",
    "        titles.append(title)\n",
    "    \n",
    "        org = job.div.span.text.strip()\n",
    "        orgs.append(org)\n",
    "    \n",
    "        link = job.a.get('href')\n",
    "    \n",
    "        if link.startswith('https'):\n",
    "                clean_links.append(link)\n",
    "        else:\n",
    "            join_link = \"https://www.indeed.com\"+link\n",
    "            clean_links.append(join_link)\n",
    "            \n",
    "    job_df['Job Title'] = titles\n",
    "    job_df['Organization'] = orgs\n",
    "    job_df['Job Link'] = clean_links\n",
    "            \n",
    "    for l in clean_links:\n",
    "        try:\n",
    "            jd_request = requests.get(l)\n",
    "            if jd_request.status_code == 200:\n",
    "                jd_cont = jd_request.text\n",
    "                job_page = BeautifulSoup(jd_cont,'html.parser')\n",
    "                description = job_page.find('div', class_ = 'jobsearch-jobDescriptionText').text\n",
    "                description = description.lower()\n",
    "        \n",
    "                for skill in skills:\n",
    "                \n",
    "                    if skill in description:\n",
    "                        if skill in skills_dict:\n",
    "                            skills_dict[skill] +=1\n",
    "                        else:\n",
    "                            skills_dict[skill] = 1\n",
    "                        \n",
    "                \n",
    "        except:\n",
    "            continue\n",
    "\n",
    "#the code for scraping page 2 and forward starts from here\n",
    "\n",
    "        \n"
   ]
  },
  {
   "cell_type": "code",
   "execution_count": 65,
   "metadata": {},
   "outputs": [
    {
     "data": {
      "text/plain": [
       "{'python': 13, 'sql': 8}"
      ]
     },
     "execution_count": 65,
     "metadata": {},
     "output_type": "execute_result"
    }
   ],
   "source": [
    "skills_dict"
   ]
  },
  {
   "cell_type": "code",
   "execution_count": 61,
   "metadata": {},
   "outputs": [
    {
     "data": {
      "text/html": [
       "<div>\n",
       "<style scoped>\n",
       "    .dataframe tbody tr th:only-of-type {\n",
       "        vertical-align: middle;\n",
       "    }\n",
       "\n",
       "    .dataframe tbody tr th {\n",
       "        vertical-align: top;\n",
       "    }\n",
       "\n",
       "    .dataframe thead th {\n",
       "        text-align: right;\n",
       "    }\n",
       "</style>\n",
       "<table border=\"1\" class=\"dataframe\">\n",
       "  <thead>\n",
       "    <tr style=\"text-align: right;\">\n",
       "      <th></th>\n",
       "      <th>Job Title</th>\n",
       "      <th>Organization</th>\n",
       "      <th>Job Link</th>\n",
       "    </tr>\n",
       "  </thead>\n",
       "  <tbody>\n",
       "    <tr>\n",
       "      <th>0</th>\n",
       "      <td>Entry Level Data Analyst</td>\n",
       "      <td>Boiling Point</td>\n",
       "      <td>https://www.indeed.com/company/Boiling-Point/j...</td>\n",
       "    </tr>\n",
       "    <tr>\n",
       "      <th>1</th>\n",
       "      <td>Clinical Data Analyst</td>\n",
       "      <td>WithHealth, Inc.</td>\n",
       "      <td>https://www.indeed.com/company/WithHealth,-Inc...</td>\n",
       "    </tr>\n",
       "    <tr>\n",
       "      <th>2</th>\n",
       "      <td>DATA ANALYST</td>\n",
       "      <td>Clare Foundation, Inc.</td>\n",
       "      <td>https://www.indeed.com/rc/clk?jk=f32a20440a730...</td>\n",
       "    </tr>\n",
       "    <tr>\n",
       "      <th>3</th>\n",
       "      <td>Fall Internship Program – Business Analyst Int...</td>\n",
       "      <td>Bigge Crane and Rigging Co.</td>\n",
       "      <td>https://www.indeed.com/company/Bigge-Crane-and...</td>\n",
       "    </tr>\n",
       "    <tr>\n",
       "      <th>4</th>\n",
       "      <td>Data Analyst</td>\n",
       "      <td>CallSource</td>\n",
       "      <td>https://www.indeed.com/company/CallSource/jobs...</td>\n",
       "    </tr>\n",
       "    <tr>\n",
       "      <th>5</th>\n",
       "      <td>Data Analyst with Tableau</td>\n",
       "      <td>Pyramid</td>\n",
       "      <td>https://www.indeed.com/company/Pyramid/jobs/Da...</td>\n",
       "    </tr>\n",
       "    <tr>\n",
       "      <th>6</th>\n",
       "      <td>Data Analyst</td>\n",
       "      <td>Amazon.com Services LLC</td>\n",
       "      <td>https://www.indeed.com/rc/clk?jk=b75f4273a9510...</td>\n",
       "    </tr>\n",
       "    <tr>\n",
       "      <th>7</th>\n",
       "      <td>Entry Level Business Analyst</td>\n",
       "      <td>Otcmarketpro</td>\n",
       "      <td>https://www.indeed.com/company/Otcmarketpro/jo...</td>\n",
       "    </tr>\n",
       "    <tr>\n",
       "      <th>8</th>\n",
       "      <td>Data Analyst - Temporary</td>\n",
       "      <td>Refuse Specialists, LLC</td>\n",
       "      <td>https://www.indeed.com/company/Refuse-Speciali...</td>\n",
       "    </tr>\n",
       "  </tbody>\n",
       "</table>\n",
       "</div>"
      ],
      "text/plain": [
       "                                           Job Title  \\\n",
       "0                           Entry Level Data Analyst   \n",
       "1                              Clinical Data Analyst   \n",
       "2                                       DATA ANALYST   \n",
       "3  Fall Internship Program – Business Analyst Int...   \n",
       "4                                       Data Analyst   \n",
       "5                          Data Analyst with Tableau   \n",
       "6                                       Data Analyst   \n",
       "7                       Entry Level Business Analyst   \n",
       "8                           Data Analyst - Temporary   \n",
       "\n",
       "                  Organization  \\\n",
       "0                Boiling Point   \n",
       "1             WithHealth, Inc.   \n",
       "2       Clare Foundation, Inc.   \n",
       "3  Bigge Crane and Rigging Co.   \n",
       "4                   CallSource   \n",
       "5                      Pyramid   \n",
       "6      Amazon.com Services LLC   \n",
       "7                 Otcmarketpro   \n",
       "8      Refuse Specialists, LLC   \n",
       "\n",
       "                                            Job Link  \n",
       "0  https://www.indeed.com/company/Boiling-Point/j...  \n",
       "1  https://www.indeed.com/company/WithHealth,-Inc...  \n",
       "2  https://www.indeed.com/rc/clk?jk=f32a20440a730...  \n",
       "3  https://www.indeed.com/company/Bigge-Crane-and...  \n",
       "4  https://www.indeed.com/company/CallSource/jobs...  \n",
       "5  https://www.indeed.com/company/Pyramid/jobs/Da...  \n",
       "6  https://www.indeed.com/rc/clk?jk=b75f4273a9510...  \n",
       "7  https://www.indeed.com/company/Otcmarketpro/jo...  \n",
       "8  https://www.indeed.com/company/Refuse-Speciali...  "
      ]
     },
     "execution_count": 61,
     "metadata": {},
     "output_type": "execute_result"
    }
   ],
   "source": [
    "job_df"
   ]
  },
  {
   "cell_type": "code",
   "execution_count": null,
   "metadata": {},
   "outputs": [],
   "source": []
  }
 ],
 "metadata": {
  "kernelspec": {
   "display_name": "Python 3",
   "language": "python",
   "name": "python3"
  },
  "language_info": {
   "codemirror_mode": {
    "name": "ipython",
    "version": 3
   },
   "file_extension": ".py",
   "mimetype": "text/x-python",
   "name": "python",
   "nbconvert_exporter": "python",
   "pygments_lexer": "ipython3",
   "version": "3.7.4"
  }
 },
 "nbformat": 4,
 "nbformat_minor": 2
}
